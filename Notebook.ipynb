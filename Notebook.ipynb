{
 "cells": [
  {
   "cell_type": "markdown",
   "metadata": {},
   "source": [
    "# DATA SCIENCE PROJECT: Analysis of CRIME AGAINST WOMEN IN INDIA (2022)"
   ]
  },
  {
   "cell_type": "markdown",
   "metadata": {},
   "source": [
    "1. Introduction"
   ]
  },
  {
   "cell_type": "markdown",
   "metadata": {},
   "source": []
  },
  {
   "cell_type": "markdown",
   "metadata": {},
   "source": [
    "2. Data Collection"
   ]
  },
  {
   "cell_type": "markdown",
   "metadata": {},
   "source": [
    "Source Domain: National crime record Bureau\n",
    "Source Link: [https://www.ncrb.gov.in/crime-in-india.html]\n",
    "Data form: EXCEL SHEET\n"
   ]
  },
  {
   "cell_type": "markdown",
   "metadata": {},
   "source": [
    "3. Data Cleaning & Preprocessing"
   ]
  },
  {
   "cell_type": "code",
   "execution_count": 24,
   "metadata": {},
   "outputs": [
    {
     "name": "stdout",
     "output_type": "stream",
     "text": [
      "Data imported succesfully\n",
      "CHECKING NULL VALUES IN DATASET\n",
      "S. No                                                                          0\n",
      "State                                                                          0\n",
      "District                                                                       0\n",
      "Murder with Rape                                                               0\n",
      "Dowry Deaths                                                                   0\n",
      "Suicide of Women                                                               0\n",
      "Miscarriage                                                                    0\n",
      "Acid Attack                                                                    0\n",
      "Cruelty by Inlaws                                                              0\n",
      "Kidnapping & Abduction of Women                                                0\n",
      "Kidnapping & Abduction for Murder                                              0\n",
      "Kidnapping for Ransom                                                          0\n",
      "Kidnapping & Abduction of Women to compel her for marriage                     0\n",
      "Procuration of Minor Girls                                                     0\n",
      "Importation of Girls from Foreign Country                                      0\n",
      "Human Trafficking                                                              0\n",
      "Rape                                                                           0\n",
      "Rape of Women (above 18)                                                       0\n",
      "Rape of Women (Below 18)                                                       0\n",
      "Attempt to Commit Rape                                                         0\n",
      "Attempt to rape Women (above 18)                                               0\n",
      "Attempt to rape Girls (Below 18)                                               0\n",
      "Assault on Women with Intent to Outrage her Modesty                            0\n",
      "Assault on Women (18 Yrs. And above)                                           0\n",
      "Assualt on Girls (Below 18 yrs)                                                0\n",
      "Insult to the Modesty of Women \\n                                              0\n",
      "insult to modesty Women (18 Yrs. And above)                                    0\n",
      "insult to modesty Girls (Below 18 yrs)                                         0\n",
      "Dowry Prohibition Act                                                          0\n",
      "Immoral Traffic                                                                0\n",
      "Procuring, inducing Children for the sake of prostitution (Section 5)          0\n",
      "Detaining a person in premises where prostitution is carried on (Section 6)    0\n",
      "Prostitution in or in the vicinity of public places (Section 7)                0\n",
      "Seducing or soliciting for purpose of prostitution (Section 8)                 0\n",
      "Other Sections under ITP Act                                                   0\n",
      "Protection of Women from Domestic Violence Act                                 0\n",
      "Cyber Crimes                                                                   0\n",
      "Publishing or Transmitting of Sexually Explicit Material                       0\n",
      "Other Women Centric Cyber Crimes                                               0\n",
      "Protection of Children from Sexual Violence Act \\n                             0\n",
      "Child Rape                                                                     0\n",
      "Sexual Assault of Children                                                     0\n",
      "Sexual Harassment                                                              0\n",
      "Use of Child for Pornography                                                   0\n",
      "POCSO Act                                                                      0\n",
      "Indecent Representation                                                        0\n",
      "dtype: int64\n",
      "   S. No           State               District  Murder with Rape  \\\n",
      "0      1  Andhra Pradesh  Alluri Sitharama Raju                 1   \n",
      "1      2  Andhra Pradesh             Anakapalli                 0   \n",
      "\n",
      "   Dowry Deaths  Suicide of Women  Miscarriage  Acid Attack  \\\n",
      "0             2                 2            0            0   \n",
      "1             5                 4            0            0   \n",
      "\n",
      "   Cruelty by Inlaws  Kidnapping & Abduction of Women  ...  Cyber Crimes  \\\n",
      "0                 58                                0  ...             1   \n",
      "1                276                               25  ...             0   \n",
      "\n",
      "   Publishing or Transmitting of Sexually Explicit Material  \\\n",
      "0                                                  1          \n",
      "1                                                  0          \n",
      "\n",
      "   Other Women Centric Cyber Crimes  \\\n",
      "0                                 0   \n",
      "1                                 0   \n",
      "\n",
      "   Protection of Children from Sexual Violence Act \\n  Child Rape  \\\n",
      "0                                                 13           13   \n",
      "1                                                 58           32   \n",
      "\n",
      "   Sexual Assault of Children  Sexual Harassment  \\\n",
      "0                           0                  0   \n",
      "1                          26                  0   \n",
      "\n",
      "   Use of Child for Pornography  POCSO Act  Indecent Representation  \n",
      "0                             0          0                        0  \n",
      "1                             0          0                        0  \n",
      "\n",
      "[2 rows x 46 columns]\n",
      "<class 'pandas.core.frame.DataFrame'>\n",
      "RangeIndex: 934 entries, 0 to 933\n",
      "Data columns (total 46 columns):\n",
      " #   Column                                                                       Non-Null Count  Dtype \n",
      "---  ------                                                                       --------------  ----- \n",
      " 0   S. No                                                                        934 non-null    int64 \n",
      " 1   State                                                                        934 non-null    object\n",
      " 2   District                                                                     934 non-null    object\n",
      " 3   Murder with Rape                                                             934 non-null    int64 \n",
      " 4   Dowry Deaths                                                                 934 non-null    int64 \n",
      " 5   Suicide of Women                                                             934 non-null    int64 \n",
      " 6   Miscarriage                                                                  934 non-null    int64 \n",
      " 7   Acid Attack                                                                  934 non-null    int64 \n",
      " 8   Cruelty by Inlaws                                                            934 non-null    int64 \n",
      " 9   Kidnapping & Abduction of Women                                              934 non-null    int64 \n",
      " 10  Kidnapping & Abduction for Murder                                            934 non-null    int64 \n",
      " 11  Kidnapping for Ransom                                                        934 non-null    int64 \n",
      " 12  Kidnapping & Abduction of Women to compel her for marriage                   934 non-null    int64 \n",
      " 13  Procuration of Minor Girls                                                   934 non-null    int64 \n",
      " 14  Importation of Girls from Foreign Country                                    934 non-null    int64 \n",
      " 15  Human Trafficking                                                            934 non-null    int64 \n",
      " 16  Rape                                                                         934 non-null    int64 \n",
      " 17  Rape of Women (above 18)                                                     934 non-null    int64 \n",
      " 18  Rape of Women (Below 18)                                                     934 non-null    int64 \n",
      " 19  Attempt to Commit Rape                                                       934 non-null    int64 \n",
      " 20  Attempt to rape Women (above 18)                                             934 non-null    int64 \n",
      " 21  Attempt to rape Girls (Below 18)                                             934 non-null    int64 \n",
      " 22  Assault on Women with Intent to Outrage her Modesty                          934 non-null    int64 \n",
      " 23  Assault on Women (18 Yrs. And above)                                         934 non-null    int64 \n",
      " 24  Assualt on Girls (Below 18 yrs)                                              934 non-null    int64 \n",
      " 25  Insult to the Modesty of Women \n",
      "                                             934 non-null    int64 \n",
      " 26  insult to modesty Women (18 Yrs. And above)                                  934 non-null    int64 \n",
      " 27  insult to modesty Girls (Below 18 yrs)                                       934 non-null    int64 \n",
      " 28  Dowry Prohibition Act                                                        934 non-null    int64 \n",
      " 29  Immoral Traffic                                                              934 non-null    int64 \n",
      " 30  Procuring, inducing Children for the sake of prostitution (Section 5)        934 non-null    int64 \n",
      " 31  Detaining a person in premises where prostitution is carried on (Section 6)  934 non-null    int64 \n",
      " 32  Prostitution in or in the vicinity of public places (Section 7)              934 non-null    int64 \n",
      " 33  Seducing or soliciting for purpose of prostitution (Section 8)               934 non-null    int64 \n",
      " 34  Other Sections under ITP Act                                                 934 non-null    int64 \n",
      " 35  Protection of Women from Domestic Violence Act                               934 non-null    int64 \n",
      " 36  Cyber Crimes                                                                 934 non-null    int64 \n",
      " 37  Publishing or Transmitting of Sexually Explicit Material                     934 non-null    int64 \n",
      " 38  Other Women Centric Cyber Crimes                                             934 non-null    int64 \n",
      " 39  Protection of Children from Sexual Violence Act \n",
      "                            934 non-null    int64 \n",
      " 40  Child Rape                                                                   934 non-null    int64 \n",
      " 41  Sexual Assault of Children                                                   934 non-null    int64 \n",
      " 42  Sexual Harassment                                                            934 non-null    int64 \n",
      " 43  Use of Child for Pornography                                                 934 non-null    int64 \n",
      " 44  POCSO Act                                                                    934 non-null    int64 \n",
      " 45  Indecent Representation                                                      934 non-null    int64 \n",
      "dtypes: int64(44), object(2)\n",
      "memory usage: 335.8+ KB\n"
     ]
    }
   ],
   "source": [
    "#Libraries used\n",
    "import pandas as pd\n",
    "import numpy as np\n",
    "import matplotlib.pyplot as plt\n",
    "import seaborn as sns\n",
    "\n",
    "\n",
    "# Reading DataSet\n",
    "data=pd.read_excel(\"C:/Users/HP/Desktop/PROJECT/CrimeAgainstWomen2022/Project_Dataset.xlsx\")\n",
    "print(\"Data imported succesfully\")\n",
    "\n",
    "print(\"CHECKING NULL VALUES IN DATASET\")\n",
    "print(data.isnull().sum())\n",
    "print(data.head(2))\n",
    "data.info()\n",
    "# print(data.describe())"
   ]
  },
  {
   "cell_type": "markdown",
   "metadata": {},
   "source": []
  },
  {
   "cell_type": "code",
   "execution_count": null,
   "metadata": {},
   "outputs": [
    {
     "ename": "IndexError",
     "evalue": "positional indexers are out-of-bounds",
     "output_type": "error",
     "traceback": [
      "\u001b[1;31m---------------------------------------------------------------------------\u001b[0m",
      "\u001b[1;31mIndexError\u001b[0m                                Traceback (most recent call last)",
      "Cell \u001b[1;32mIn[37], line 1\u001b[0m\n\u001b[1;32m----> 1\u001b[0m data_subset \u001b[38;5;241m=\u001b[39m \u001b[43mdata\u001b[49m\u001b[38;5;241;43m.\u001b[39;49m\u001b[43miloc\u001b[49m\u001b[43m[\u001b[49m\u001b[43m:\u001b[49m\u001b[43m,\u001b[49m\u001b[43m[\u001b[49m\u001b[38;5;241;43m3\u001b[39;49m\u001b[43m,\u001b[49m\u001b[38;5;241;43m12\u001b[39;49m\u001b[43m]\u001b[49m\u001b[43m]\u001b[49m\n\u001b[0;32m      3\u001b[0m \u001b[38;5;66;03m# Compute correlation\u001b[39;00m\n\u001b[0;32m      4\u001b[0m corr \u001b[38;5;241m=\u001b[39m data_subset\u001b[38;5;241m.\u001b[39mcorr()\n",
      "File \u001b[1;32mc:\\Users\\HP\\AppData\\Local\\Programs\\Python\\Python313\\Lib\\site-packages\\pandas\\core\\indexing.py:1184\u001b[0m, in \u001b[0;36m_LocationIndexer.__getitem__\u001b[1;34m(self, key)\u001b[0m\n\u001b[0;32m   1182\u001b[0m     \u001b[38;5;28;01mif\u001b[39;00m \u001b[38;5;28mself\u001b[39m\u001b[38;5;241m.\u001b[39m_is_scalar_access(key):\n\u001b[0;32m   1183\u001b[0m         \u001b[38;5;28;01mreturn\u001b[39;00m \u001b[38;5;28mself\u001b[39m\u001b[38;5;241m.\u001b[39mobj\u001b[38;5;241m.\u001b[39m_get_value(\u001b[38;5;241m*\u001b[39mkey, takeable\u001b[38;5;241m=\u001b[39m\u001b[38;5;28mself\u001b[39m\u001b[38;5;241m.\u001b[39m_takeable)\n\u001b[1;32m-> 1184\u001b[0m     \u001b[38;5;28;01mreturn\u001b[39;00m \u001b[38;5;28;43mself\u001b[39;49m\u001b[38;5;241;43m.\u001b[39;49m\u001b[43m_getitem_tuple\u001b[49m\u001b[43m(\u001b[49m\u001b[43mkey\u001b[49m\u001b[43m)\u001b[49m\n\u001b[0;32m   1185\u001b[0m \u001b[38;5;28;01melse\u001b[39;00m:\n\u001b[0;32m   1186\u001b[0m     \u001b[38;5;66;03m# we by definition only have the 0th axis\u001b[39;00m\n\u001b[0;32m   1187\u001b[0m     axis \u001b[38;5;241m=\u001b[39m \u001b[38;5;28mself\u001b[39m\u001b[38;5;241m.\u001b[39maxis \u001b[38;5;129;01mor\u001b[39;00m \u001b[38;5;241m0\u001b[39m\n",
      "File \u001b[1;32mc:\\Users\\HP\\AppData\\Local\\Programs\\Python\\Python313\\Lib\\site-packages\\pandas\\core\\indexing.py:1690\u001b[0m, in \u001b[0;36m_iLocIndexer._getitem_tuple\u001b[1;34m(self, tup)\u001b[0m\n\u001b[0;32m   1689\u001b[0m \u001b[38;5;28;01mdef\u001b[39;00m\u001b[38;5;250m \u001b[39m\u001b[38;5;21m_getitem_tuple\u001b[39m(\u001b[38;5;28mself\u001b[39m, tup: \u001b[38;5;28mtuple\u001b[39m):\n\u001b[1;32m-> 1690\u001b[0m     tup \u001b[38;5;241m=\u001b[39m \u001b[38;5;28;43mself\u001b[39;49m\u001b[38;5;241;43m.\u001b[39;49m\u001b[43m_validate_tuple_indexer\u001b[49m\u001b[43m(\u001b[49m\u001b[43mtup\u001b[49m\u001b[43m)\u001b[49m\n\u001b[0;32m   1691\u001b[0m     \u001b[38;5;28;01mwith\u001b[39;00m suppress(IndexingError):\n\u001b[0;32m   1692\u001b[0m         \u001b[38;5;28;01mreturn\u001b[39;00m \u001b[38;5;28mself\u001b[39m\u001b[38;5;241m.\u001b[39m_getitem_lowerdim(tup)\n",
      "File \u001b[1;32mc:\\Users\\HP\\AppData\\Local\\Programs\\Python\\Python313\\Lib\\site-packages\\pandas\\core\\indexing.py:966\u001b[0m, in \u001b[0;36m_LocationIndexer._validate_tuple_indexer\u001b[1;34m(self, key)\u001b[0m\n\u001b[0;32m    964\u001b[0m \u001b[38;5;28;01mfor\u001b[39;00m i, k \u001b[38;5;129;01min\u001b[39;00m \u001b[38;5;28menumerate\u001b[39m(key):\n\u001b[0;32m    965\u001b[0m     \u001b[38;5;28;01mtry\u001b[39;00m:\n\u001b[1;32m--> 966\u001b[0m         \u001b[38;5;28;43mself\u001b[39;49m\u001b[38;5;241;43m.\u001b[39;49m\u001b[43m_validate_key\u001b[49m\u001b[43m(\u001b[49m\u001b[43mk\u001b[49m\u001b[43m,\u001b[49m\u001b[43m \u001b[49m\u001b[43mi\u001b[49m\u001b[43m)\u001b[49m\n\u001b[0;32m    967\u001b[0m     \u001b[38;5;28;01mexcept\u001b[39;00m \u001b[38;5;167;01mValueError\u001b[39;00m \u001b[38;5;28;01mas\u001b[39;00m err:\n\u001b[0;32m    968\u001b[0m         \u001b[38;5;28;01mraise\u001b[39;00m \u001b[38;5;167;01mValueError\u001b[39;00m(\n\u001b[0;32m    969\u001b[0m             \u001b[38;5;124m\"\u001b[39m\u001b[38;5;124mLocation based indexing can only have \u001b[39m\u001b[38;5;124m\"\u001b[39m\n\u001b[0;32m    970\u001b[0m             \u001b[38;5;124mf\u001b[39m\u001b[38;5;124m\"\u001b[39m\u001b[38;5;124m[\u001b[39m\u001b[38;5;132;01m{\u001b[39;00m\u001b[38;5;28mself\u001b[39m\u001b[38;5;241m.\u001b[39m_valid_types\u001b[38;5;132;01m}\u001b[39;00m\u001b[38;5;124m] types\u001b[39m\u001b[38;5;124m\"\u001b[39m\n\u001b[0;32m    971\u001b[0m         ) \u001b[38;5;28;01mfrom\u001b[39;00m\u001b[38;5;250m \u001b[39m\u001b[38;5;21;01merr\u001b[39;00m\n",
      "File \u001b[1;32mc:\\Users\\HP\\AppData\\Local\\Programs\\Python\\Python313\\Lib\\site-packages\\pandas\\core\\indexing.py:1612\u001b[0m, in \u001b[0;36m_iLocIndexer._validate_key\u001b[1;34m(self, key, axis)\u001b[0m\n\u001b[0;32m   1610\u001b[0m     \u001b[38;5;66;03m# check that the key does not exceed the maximum size of the index\u001b[39;00m\n\u001b[0;32m   1611\u001b[0m     \u001b[38;5;28;01mif\u001b[39;00m \u001b[38;5;28mlen\u001b[39m(arr) \u001b[38;5;129;01mand\u001b[39;00m (arr\u001b[38;5;241m.\u001b[39mmax() \u001b[38;5;241m>\u001b[39m\u001b[38;5;241m=\u001b[39m len_axis \u001b[38;5;129;01mor\u001b[39;00m arr\u001b[38;5;241m.\u001b[39mmin() \u001b[38;5;241m<\u001b[39m \u001b[38;5;241m-\u001b[39mlen_axis):\n\u001b[1;32m-> 1612\u001b[0m         \u001b[38;5;28;01mraise\u001b[39;00m \u001b[38;5;167;01mIndexError\u001b[39;00m(\u001b[38;5;124m\"\u001b[39m\u001b[38;5;124mpositional indexers are out-of-bounds\u001b[39m\u001b[38;5;124m\"\u001b[39m)\n\u001b[0;32m   1613\u001b[0m \u001b[38;5;28;01melse\u001b[39;00m:\n\u001b[0;32m   1614\u001b[0m     \u001b[38;5;28;01mraise\u001b[39;00m \u001b[38;5;167;01mValueError\u001b[39;00m(\u001b[38;5;124mf\u001b[39m\u001b[38;5;124m\"\u001b[39m\u001b[38;5;124mCan only index by location with a [\u001b[39m\u001b[38;5;132;01m{\u001b[39;00m\u001b[38;5;28mself\u001b[39m\u001b[38;5;241m.\u001b[39m_valid_types\u001b[38;5;132;01m}\u001b[39;00m\u001b[38;5;124m]\u001b[39m\u001b[38;5;124m\"\u001b[39m)\n",
      "\u001b[1;31mIndexError\u001b[0m: positional indexers are out-of-bounds"
     ]
    }
   ],
   "source": []
  },
  {
   "cell_type": "markdown",
   "metadata": {},
   "source": [
    "<html>"
   ]
  },
  {
   "cell_type": "code",
   "execution_count": null,
   "metadata": {},
   "outputs": [],
   "source": []
  }
 ],
 "metadata": {
  "kernelspec": {
   "display_name": "Python 3",
   "language": "python",
   "name": "python3"
  },
  "language_info": {
   "codemirror_mode": {
    "name": "ipython",
    "version": 3
   },
   "file_extension": ".py",
   "mimetype": "text/x-python",
   "name": "python",
   "nbconvert_exporter": "python",
   "pygments_lexer": "ipython3",
   "version": "3.13.1"
  }
 },
 "nbformat": 4,
 "nbformat_minor": 4
}
