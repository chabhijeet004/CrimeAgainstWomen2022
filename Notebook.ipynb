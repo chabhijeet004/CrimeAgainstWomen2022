{
 "cells": [
  {
   "cell_type": "markdown",
   "metadata": {},
   "source": [
    "# DATA SCIENCE PROJECT: Analysis of CRIME AGAINST WOMEN IN INDIA (2022)"
   ]
  },
  {
   "cell_type": "markdown",
   "metadata": {},
   "source": [
    "Analysis of Crimes Against Women in India: A 2022 Overview\n",
    "Focus: A comprehensive analysis of the crime landscape in India in 2022, identifying the most prevalent types of crimes, hotspots, and emerging trends.\n",
    "\n",
    "Includes: Descriptive statistics, data visualization, crime category breakdown."
   ]
  },
  {
   "cell_type": "markdown",
   "metadata": {},
   "source": [
    "Importing libraries to be used "
   ]
  },
  {
   "cell_type": "code",
   "execution_count": null,
   "metadata": {},
   "outputs": [],
   "source": [
    "\n",
    "import pandas as pd\n",
    "import numpy as np\n",
    "import matplotlib.pyplot as plt\n",
    "import seaborn as sns"
   ]
  },
  {
   "cell_type": "markdown",
   "metadata": {},
   "source": [
    "## SOURCE OF DATASET"
   ]
  },
  {
   "cell_type": "markdown",
   "metadata": {},
   "source": [
    "### Source: National Crime Records Bureau (NCRB), Ministry of Home Affairs, Government of India. Crime in India 2022 Report. https://ncrb.gov.in (Accessed: April 2025)."
   ]
  },
  {
   "cell_type": "code",
   "execution_count": null,
   "metadata": {},
   "outputs": [],
   "source": [
    "\n",
    "# Reading DataSet\n",
    "data=pd.read_excel(\"C:/Users/HP/Desktop/PROJECT/CrimeAgainstWomen2022/Project_Dataset.xlsx\")\n",
    "print(\"Data imported succesfully\")"
   ]
  },
  {
   "cell_type": "markdown",
   "metadata": {},
   "source": [
    "Top Rows of Dataset"
   ]
  },
  {
   "cell_type": "code",
   "execution_count": null,
   "metadata": {},
   "outputs": [],
   "source": [
    "data.head()"
   ]
  },
  {
   "cell_type": "markdown",
   "metadata": {},
   "source": [
    "Information about Dataset used:"
   ]
  },
  {
   "cell_type": "code",
   "execution_count": null,
   "metadata": {},
   "outputs": [],
   "source": [
    "data.info()"
   ]
  },
  {
   "cell_type": "markdown",
   "metadata": {},
   "source": [
    "Statistics of Data"
   ]
  },
  {
   "cell_type": "code",
   "execution_count": null,
   "metadata": {},
   "outputs": [],
   "source": [
    "data.describe()"
   ]
  },
  {
   "cell_type": "markdown",
   "metadata": {},
   "source": [
    "CHECKING MISSING/NULL VALUES"
   ]
  },
  {
   "cell_type": "code",
   "execution_count": null,
   "metadata": {},
   "outputs": [],
   "source": [
    "print(\"\\nMissing Values:\\n\", data.isnull().sum())\n",
    "print(\"\\nDuplicate Rows:\", data.duplicated().sum())"
   ]
  },
  {
   "cell_type": "markdown",
   "metadata": {},
   "source": [
    "## Objective 1: Identifying High Risk States for Women\n",
    "### The first objective of our analysis is to identify the high-risk states in India based on the incidence of crimes against women in 2022. This analysis will allow us to determine which regions have higher rates of violence or crimes affecting women and could provide useful insights for policy interventions, resource allocation, and awareness campaigns."
   ]
  },
  {
   "cell_type": "code",
   "execution_count": null,
   "metadata": {},
   "outputs": [],
   "source": [
    "#using column indexes instead of names./ we can also use iloc function here.\n",
    "cols = data.columns[[3,4,5,6,7,8,9,16,19,22,28,29,30,31,32,33,34,35,36,37,38,39,41,44,45]]\n",
    "\n",
    "\n",
    "statewise_crime = data.groupby(\"State\")[cols].sum()\n",
    "\n",
    "#new column of total crime(sum of crime per state)\n",
    "statewise_crime[\"Total_Crimes\"] = statewise_crime.sum(axis=1)\n",
    "\n",
    "top_risk_states = statewise_crime.sort_values(\"Total_Crimes\", ascending=False)\n",
    "\n",
    "# Plot\n",
    "top_risk_states[\"Total_Crimes\"].head(10).plot(kind='bar', color='crimson')\n",
    "plt.title(\"Top 10 High-Risk States for Women\")\n",
    "plt.ylabel(\"Total Crime Count\")\n",
    "plt.xlabel(\"States\")\n",
    "plt.xticks(rotation=40)\n",
    "plt.tight_layout()\n",
    "plt.show()"
   ]
  },
  {
   "cell_type": "code",
   "execution_count": null,
   "metadata": {},
   "outputs": [],
   "source": [
    "# Sum total crimes per state across all columns except identifiers\n",
    "crime_columns = data.drop(columns=[\"S. No\", \"State\", \"District\"]).columns\n",
    "statewise_crime = data.groupby(\"State\")[crime_columns].sum()\n",
    "statewise_crime[\"Total Crimes\"] = statewise_crime.sum(axis=1)\n",
    "top_states = statewise_crime[\"Total Crimes\"].sort_values(ascending=False).head(10)\n",
    "\n",
    "# Plotting top 10 high-risk states\n",
    "plt.figure(figsize=(12, 6))\n",
    "sns.barplot(x=top_states.values, y=top_states.index)\n",
    "plt.title(\"Top 10 High-Risk States for Women (Total Reported Crimes)\")\n",
    "plt.xlabel(\"Total Reported Crimes\")\n",
    "plt.ylabel(\"State\")\n",
    "plt.tight_layout()\n",
    "plt.show()\n"
   ]
  },
  {
   "cell_type": "markdown",
   "metadata": {},
   "source": [
    "## Objective 2: Correlation Between Female Suicides and Cruelty by In-laws"
   ]
  },
  {
   "cell_type": "code",
   "execution_count": null,
   "metadata": {},
   "outputs": [],
   "source": [
    "\n",
    "suicide_col = \"Suicide of Women\"\n",
    "cruelty_col = \"Cruelty by Inlaws\"\n",
    "\n",
    "# Compute correlation\n",
    "correlation_value = data[[suicide_col, cruelty_col]].corr().iloc[0, 1]\n",
    "\n",
    "# Scatter plot to visualize the relationship\n",
    "plt.figure(figsize=(8, 6))\n",
    "sns.scatterplot(data=data, x=cruelty_col, y=suicide_col, alpha=0.6)\n",
    "sns.regplot(data=data, x=cruelty_col, y=suicide_col, scatter=False, color=\"red\", label=f\"Corr: {correlation_value:.2f}\")\n",
    "plt.title(\"Correlation Between Female Suicides and Cruelty by In-laws\")\n",
    "plt.xlabel(\"Cruelty by In-laws\")\n",
    "plt.ylabel(\"Suicide of Women\")\n",
    "plt.legend()\n",
    "plt.show()\n",
    "\n",
    "correlation_value\n"
   ]
  },
  {
   "cell_type": "code",
   "execution_count": null,
   "metadata": {},
   "outputs": [],
   "source": [
    "df_relevant = data[['Suicide of Women', 'Cruelty by Inlaws']]\n",
    "\n",
    "# Drop any rows with missing data in these columns\n",
    "df_relevant = df_relevant.dropna()\n",
    "\n",
    "# Calculate the Pearson correlation coefficient\n",
    "correlation = df_relevant.corr(method='pearson')\n",
    "\n",
    "\n",
    "\n",
    "# Set the plot size and style\n",
    "plt.figure(figsize=(6, 4))\n",
    "sns.set(style='whitegrid')\n",
    "\n",
    "# Draw the heatmap\n",
    "heatmap = sns.heatmap(correlation, annot=True, cmap='coolwarm', fmt=\".2f\", linewidths=0.5)\n",
    "plt.title(\"Correlation Heatmap: Female Suicides vs Cruelty by In-laws\")\n",
    "plt.tight_layout()\n",
    "plt.show()"
   ]
  },
  {
   "cell_type": "markdown",
   "metadata": {},
   "source": []
  },
  {
   "cell_type": "code",
   "execution_count": null,
   "metadata": {},
   "outputs": [],
   "source": [
    "crime_data = data.iloc[:, 3:]\n",
    "\n",
    "# Sum all values per crime category\n",
    "crime_totals = crime_data.sum().sort_values(ascending=False)\n",
    "\n",
    "# Display top 10 most prevalent crimes\n",
    "top_10_crimes = crime_totals.head(10)\n",
    "print(\"Top 10 Most Prevalent Crimes Against Women:\\n\")\n",
    "print(top_10_crimes)\n",
    "\n",
    "# Plotting\n",
    "plt.figure(figsize=(10, 6))\n",
    "sns.barplot(x=top_10_crimes.values, y=top_10_crimes.index, palette='magma')\n",
    "plt.title('Top 10 Most Prevalent Crimes Against Women')\n",
    "plt.xlabel('Total Cases')\n",
    "plt.ylabel('Crime Category')\n",
    "plt.show()"
   ]
  },
  {
   "cell_type": "markdown",
   "metadata": {},
   "source": [
    "<html>"
   ]
  },
  {
   "cell_type": "code",
   "execution_count": null,
   "metadata": {},
   "outputs": [],
   "source": [
    "print(\"\\nColumns:\", data.columns.tolist())"
   ]
  },
  {
   "cell_type": "code",
   "execution_count": null,
   "metadata": {},
   "outputs": [],
   "source": [
    "# Columns related to crimes against different age groups\n",
    "adult_crimes = ['Rape ', 'Rape of Women (above 18)', 'Sexual Harassment']\n",
    "minor_crimes = ['Child Rape', 'Sexual Assault of Children', 'Use of Child for Pornography']\n",
    "\n",
    "\n",
    "# Sum total crimes in each category\n",
    "adult_total = data[adult_crimes].sum().sum()\n",
    "minor_total = data[minor_crimes].sum().sum()\n",
    "\n",
    "# Prepare data for plotting\n",
    "crime_comparison = pd.Series({'Women (18+)': adult_total, 'Girls (<18)': minor_total})\n",
    "\n",
    "# Plotting\n",
    "plt.figure(figsize=(6, 5))\n",
    "sns.barplot(x=crime_comparison.index, y=crime_comparison.values)\n",
    "plt.title('Comparison of Crimes Against Women vs Girls')\n",
    "plt.ylabel('Total Cases')\n",
    "plt.xlabel('Age Group')\n",
    "\n",
    "plt.show()\n"
   ]
  },
  {
   "cell_type": "code",
   "execution_count": null,
   "metadata": {},
   "outputs": [],
   "source": [
    "\n",
    "\n",
    "# Get all crime columns (assuming they start from the 4th column)\n",
    "crime_columns = data.columns[3:]\n",
    "\n",
    "# Filter only numeric crime data\n",
    "crime_data = data[crime_columns].select_dtypes(include='number')\n",
    "\n",
    "# Sum total crimes per district\n",
    "data[\"Total_Crimes\"] = crime_data.sum(axis=1)\n",
    "\n",
    "# Sort districts by lowest total crimes\n",
    "safest_districts = data.sort_values(by=\"Total_Crimes\").reset_index(drop=True)\n",
    "\n",
    "# Show top 10 safest districts\n",
    "top_10_safest = safest_districts[[\"State\", \"District\", \"Total_Crimes\"]].head(5)\n",
    "print(\"🛡️ Top 10 Safest Districts (Least Crimes Reported Against Women):\\n\")\n",
    "print(top_10_safest)\n",
    "\n",
    "plt.figure(figsize=(10, 6))\n",
    "plt.bar(top_10_safest[\"District\"], top_10_safest[\"Total_Crimes\"], color='green')\n",
    "plt.xlabel(\"Total Crimes\")\n",
    "plt.title(\"Top 10 Safest Districts for Women (Least Crimes)\")\n",
    "plt.gca().invert_yaxis()  # Highest at the top\n",
    "plt.tight_layout()\n",
    "plt.show()"
   ]
  },
  {
   "cell_type": "code",
   "execution_count": null,
   "metadata": {},
   "outputs": [],
   "source": [
    "crime_data = data.iloc[:, 3:]\n",
    "\n",
    "# Get top 15 crimes based on total counts\n",
    "top_15_crimes = crime_data.sum().sort_values(ascending=False).head(10).index.tolist()\n",
    "\n",
    "# Create correlation matrix for these top 15\n",
    "filtered_corr = crime_data[top_15_crimes].corr()\n",
    "\n",
    "# Get top correlated crime pairs (excluding self-correlation)\n",
    "corr_unstacked = filtered_corr.unstack()\n",
    "corr_unstacked = corr_unstacked[corr_unstacked.index.get_level_values(0) != corr_unstacked.index.get_level_values(1)]\n",
    "corr_sorted = corr_unstacked.sort_values(ascending=False).drop_duplicates()\n",
    "\n",
    "# Show top 10 correlated pairs\n",
    "top_10_pairs = corr_sorted.head(10)\n",
    "print(\"🔗 Top 10 Most Correlated Crime Pairs Among Top 15 Categories:\\n\")\n",
    "print(top_10_pairs)\n",
    "\n",
    "# Optional: Small heatmap\n",
    "plt.figure(figsize=(10, 8))\n",
    "sns.heatmap(filtered_corr, annot=True, cmap='coolwarm', fmt=\".2f\", linewidths=0.5)\n",
    "plt.title(\"Correlation Among Top 15 Crimes Against Women\")\n",
    "plt.tight_layout()\n",
    "plt.show()\n"
   ]
  },
  {
   "cell_type": "code",
   "execution_count": null,
   "metadata": {},
   "outputs": [],
   "source": [
    "\n",
    "exclude_cols = ['SNo', 'Year', 'State/UT', 'District']\n",
    "crime_cols = [col for col in data.columns if col not in exclude_cols and data[col].dtype in ['int64', 'float64']]\n",
    "\n",
    "# Group by State and sum all crimes\n",
    "state_crime_totals = data.groupby('State')[crime_cols].sum()\n",
    "state_crime_totals['Total'] = state_crime_totals.sum(axis=1)\n",
    "\n",
    "# Calculate national total\n",
    "national_total = state_crime_totals['Total'].sum()\n",
    "\n",
    "# Add percentage contribution\n",
    "state_crime_totals['Contribution (%)'] = (state_crime_totals['Total'] / national_total) * 100\n",
    "\n",
    "# Sort by contribution\n",
    "state_crime_sorted = state_crime_totals.sort_values(by='Contribution (%)', ascending=False)\n",
    "\n",
    "# Plot\n",
    "plt.figure(figsize=(12, 10))\n",
    "sns.barplot(x='Contribution (%)', y=state_crime_sorted.index, data=state_crime_sorted, palette='viridis')\n",
    "plt.title('State-wise Contribution to National Crimes Against Women', fontsize=16)\n",
    "plt.xlabel('Contribution to National Total (%)')\n",
    "plt.ylabel('State/UT')\n",
    "plt.tight_layout()\n",
    "plt.show()"
   ]
  },
  {
   "cell_type": "code",
   "execution_count": null,
   "metadata": {},
   "outputs": [],
   "source": [
    "#Libraries used\n",
    "import pandas as pd\n",
    "import numpy as np\n",
    "import matplotlib.pyplot as plt\n",
    "import seaborn as sns\n",
    "\n",
    "\n",
    "# Reading DataSet\n",
    "data=pd.read_excel(\"C:/Users/HP/Desktop/PROJECT/CrimeAgainstWomen2022/Project_Dataset.xlsx\")\n",
    "print(\"Data imported succesfully\")\n",
    "exclude_cols = ['SNo', 'Year', 'State/UT', 'District']\n",
    "crime_cols = [col for col in data.columns if col not in exclude_cols and data[col].dtype in ['int64', 'float64']]\n",
    "\n",
    "# Group by State/UT and calculate total crimes\n",
    "state_crimes = data.groupby('State')[crime_cols].sum()\n",
    "state_crimes['Total Crimes'] = state_crimes.sum(axis=1)\n",
    "\n",
    "# Sort and get top 10 states\n",
    "top10_states = state_crimes['Total Crimes'].sort_values(ascending=False).head(10)\n",
    "\n",
    "# Plot pie chart\n",
    "plt.figure(figsize=(10, 8))\n",
    "plt.pie(top10_states, labels=top10_states.index, autopct='%1.1f%%', startangle=140, textprops={'fontsize': 9})\n",
    "plt.title('Top 10 States Contributing to National Crimes Against Women', fontsize=14)\n",
    "plt.tight_layout()\n",
    "plt.show()"
   ]
  },
  {
   "cell_type": "code",
   "execution_count": null,
   "metadata": {},
   "outputs": [],
   "source": [
    "# Sample female population data (replace with actual values if available)\n",
    "female_population = {\n",
    "    'Uttar Pradesh': 104000000,\n",
    "    'Rajasthan': 38000000,\n",
    "    'Maharashtra': 61000000,\n",
    "    'West Bengal': 46000000,\n",
    "    'Madhya Pradesh': 44000000,\n",
    "    'Odisha': 21000000,\n",
    "    'Telangana': 18000000,\n",
    "    'Tamil Nadu': 36000000,\n",
    "    'Karnataka': 33000000,\n",
    "    'Delhi': 8800000,\n",
    "    # Add more states...\n",
    "}\n",
    "# Group crimes by state and calculate total\n",
    "state_crimes = data.groupby('State')[crime_cols].sum()\n",
    "state_crimes['Total Crimes'] = state_crimes.sum(axis=1)\n",
    "\n",
    "# Convert population dictionary to DataFrame\n",
    "pop_df = pd.DataFrame.from_dict(female_population, orient='index', columns=['Female Population'])\n",
    "pop_df.index.name = 'State'\n",
    "\n",
    "# Merge population with crime data\n",
    "merged_data = state_crimes.merge(pop_df, left_index=True, right_index=True)\n",
    "\n",
    "# Calculate crime rate per 100,000 women\n",
    "merged_data['Crime Rate (per 100k women)'] = (merged_data['Total Crimes'] / merged_data['Female Population']) * 100000\n",
    "\n",
    "# Get 10 safest states based on crime rate\n",
    "safest_states_by_rate = merged_data.sort_values(by='Crime Rate (per 100k women)', ascending=True).head(10)\n",
    "\n",
    "# Plot\n",
    "plt.figure(figsize=(10, 6))\n",
    "sns.barplot(y=safest_states_by_rate.index, x=safest_states_by_rate['Crime Rate (per 100k women)'], palette='Greens_r')\n",
    "plt.xlabel('Crime Rate per 100,000 Women')\n",
    "plt.ylabel('State')\n",
    "plt.title('Top 10 Safest States for Women (Based on Crime Rate)', fontsize=14)\n",
    "plt.tight_layout()\n",
    "plt.show()\n"
   ]
  },
  {
   "cell_type": "code",
   "execution_count": null,
   "metadata": {},
   "outputs": [],
   "source": []
  }
 ],
 "metadata": {
  "kernelspec": {
   "display_name": "Python 3",
   "language": "python",
   "name": "python3"
  },
  "language_info": {
   "codemirror_mode": {
    "name": "ipython",
    "version": 3
   },
   "file_extension": ".py",
   "mimetype": "text/x-python",
   "name": "python",
   "nbconvert_exporter": "python",
   "pygments_lexer": "ipython3",
   "version": "3.13.1"
  }
 },
 "nbformat": 4,
 "nbformat_minor": 4
}
